{
 "cells": [
  {
   "cell_type": "markdown",
   "metadata": {
    "id": "fKADPWcFKlj3"
   },
   "source": [
    "# **1. Import Library**"
   ]
  },
  {
   "cell_type": "markdown",
   "metadata": {
    "id": "LgA3ERnVn84N"
   },
   "source": [
    "Pada tahap ini, Anda perlu mengimpor beberapa pustaka (library) Python yang dibutuhkan untuk analisis data dan pembangunan model machine learning."
   ]
  },
  {
   "cell_type": "code",
   "execution_count": 1,
   "metadata": {
    "id": "BlmvjLY9M4Yj"
   },
   "outputs": [],
   "source": [
    "import pandas as pd\n",
    "import numpy as np\n",
    "import matplotlib.pyplot as plt\n",
    "import seaborn as sns\n",
    "\n",
    "from sklearn.model_selection import train_test_split\n",
    "from sklearn.preprocessing import StandardScaler\n",
    "from sklearn.preprocessing import LabelEncoder\n",
    "from sklearn.ensemble import RandomForestClassifier\n",
    "from sklearn.svm import SVC\n",
    "from sklearn.metrics import accuracy_score, classification_report, confusion_matrix, f1_score"
   ]
  },
  {
   "cell_type": "markdown",
   "metadata": {
    "id": "f3YIEnAFKrKL"
   },
   "source": [
    "# **2. Memuat Dataset dari Hasil Clustering**"
   ]
  },
  {
   "cell_type": "markdown",
   "metadata": {
    "id": "Ey3ItwTen_7E"
   },
   "source": [
    "Memuat dataset hasil clustering dari file CSV ke dalam variabel DataFrame."
   ]
  },
  {
   "cell_type": "code",
   "execution_count": 2,
   "metadata": {
    "id": "GHCGNTyrM5fS"
   },
   "outputs": [
    {
     "data": {
      "text/html": [
       "<div>\n",
       "<style scoped>\n",
       "    .dataframe tbody tr th:only-of-type {\n",
       "        vertical-align: middle;\n",
       "    }\n",
       "\n",
       "    .dataframe tbody tr th {\n",
       "        vertical-align: top;\n",
       "    }\n",
       "\n",
       "    .dataframe thead th {\n",
       "        text-align: right;\n",
       "    }\n",
       "</style>\n",
       "<table border=\"1\" class=\"dataframe\">\n",
       "  <thead>\n",
       "    <tr style=\"text-align: right;\">\n",
       "      <th></th>\n",
       "      <th>Date</th>\n",
       "      <th>Fulfilment</th>\n",
       "      <th>SKU</th>\n",
       "      <th>ASIN</th>\n",
       "      <th>Courier Status</th>\n",
       "      <th>Qty</th>\n",
       "      <th>Amount</th>\n",
       "      <th>B2B</th>\n",
       "      <th>Amount_scaled</th>\n",
       "      <th>Category_Bottom</th>\n",
       "      <th>...</th>\n",
       "      <th>Status_Shipped - Delivered to Buyer</th>\n",
       "      <th>Status_Shipped - Lost in Transit</th>\n",
       "      <th>Status_Shipped - Out for Delivery</th>\n",
       "      <th>Status_Shipped - Picked Up</th>\n",
       "      <th>Status_Shipped - Rejected by Buyer</th>\n",
       "      <th>Status_Shipped - Returned to Seller</th>\n",
       "      <th>Status_Shipped - Returning to Seller</th>\n",
       "      <th>Cluster</th>\n",
       "      <th>PCA1</th>\n",
       "      <th>PCA2</th>\n",
       "    </tr>\n",
       "  </thead>\n",
       "  <tbody>\n",
       "    <tr>\n",
       "      <th>0</th>\n",
       "      <td>2022-04-30</td>\n",
       "      <td>Merchant</td>\n",
       "      <td>JNE3781-KR-XXXL</td>\n",
       "      <td>B09K3WFS32</td>\n",
       "      <td>Shipped</td>\n",
       "      <td>1</td>\n",
       "      <td>406.0</td>\n",
       "      <td>False</td>\n",
       "      <td>-0.884741</td>\n",
       "      <td>False</td>\n",
       "      <td>...</td>\n",
       "      <td>True</td>\n",
       "      <td>False</td>\n",
       "      <td>False</td>\n",
       "      <td>False</td>\n",
       "      <td>False</td>\n",
       "      <td>False</td>\n",
       "      <td>False</td>\n",
       "      <td>2</td>\n",
       "      <td>-218.977633</td>\n",
       "      <td>1.218870</td>\n",
       "    </tr>\n",
       "    <tr>\n",
       "      <th>1</th>\n",
       "      <td>2022-04-30</td>\n",
       "      <td>Amazon</td>\n",
       "      <td>JNE3371-KR-XL</td>\n",
       "      <td>B07WV4JV4D</td>\n",
       "      <td>Shipped</td>\n",
       "      <td>1</td>\n",
       "      <td>329.0</td>\n",
       "      <td>True</td>\n",
       "      <td>-1.195850</td>\n",
       "      <td>False</td>\n",
       "      <td>...</td>\n",
       "      <td>False</td>\n",
       "      <td>False</td>\n",
       "      <td>False</td>\n",
       "      <td>False</td>\n",
       "      <td>False</td>\n",
       "      <td>False</td>\n",
       "      <td>False</td>\n",
       "      <td>2</td>\n",
       "      <td>-295.978222</td>\n",
       "      <td>-0.494451</td>\n",
       "    </tr>\n",
       "    <tr>\n",
       "      <th>2</th>\n",
       "      <td>2022-04-30</td>\n",
       "      <td>Amazon</td>\n",
       "      <td>JNE3671-TU-XXXL</td>\n",
       "      <td>B098714BZP</td>\n",
       "      <td>Shipped</td>\n",
       "      <td>1</td>\n",
       "      <td>574.0</td>\n",
       "      <td>False</td>\n",
       "      <td>-0.205958</td>\n",
       "      <td>False</td>\n",
       "      <td>...</td>\n",
       "      <td>False</td>\n",
       "      <td>False</td>\n",
       "      <td>False</td>\n",
       "      <td>False</td>\n",
       "      <td>False</td>\n",
       "      <td>False</td>\n",
       "      <td>False</td>\n",
       "      <td>3</td>\n",
       "      <td>-50.975504</td>\n",
       "      <td>-0.499005</td>\n",
       "    </tr>\n",
       "    <tr>\n",
       "      <th>3</th>\n",
       "      <td>2022-04-30</td>\n",
       "      <td>Amazon</td>\n",
       "      <td>SET264-KR-NP-XL</td>\n",
       "      <td>B08YN7XDSG</td>\n",
       "      <td>Shipped</td>\n",
       "      <td>1</td>\n",
       "      <td>824.0</td>\n",
       "      <td>False</td>\n",
       "      <td>0.804135</td>\n",
       "      <td>False</td>\n",
       "      <td>...</td>\n",
       "      <td>False</td>\n",
       "      <td>False</td>\n",
       "      <td>False</td>\n",
       "      <td>False</td>\n",
       "      <td>False</td>\n",
       "      <td>False</td>\n",
       "      <td>False</td>\n",
       "      <td>0</td>\n",
       "      <td>199.027326</td>\n",
       "      <td>-0.507543</td>\n",
       "    </tr>\n",
       "    <tr>\n",
       "      <th>4</th>\n",
       "      <td>2022-04-30</td>\n",
       "      <td>Amazon</td>\n",
       "      <td>J0095-SET-L</td>\n",
       "      <td>B08CMHNWBN</td>\n",
       "      <td>Shipped</td>\n",
       "      <td>1</td>\n",
       "      <td>653.0</td>\n",
       "      <td>False</td>\n",
       "      <td>0.113231</td>\n",
       "      <td>False</td>\n",
       "      <td>...</td>\n",
       "      <td>False</td>\n",
       "      <td>False</td>\n",
       "      <td>False</td>\n",
       "      <td>False</td>\n",
       "      <td>False</td>\n",
       "      <td>False</td>\n",
       "      <td>False</td>\n",
       "      <td>0</td>\n",
       "      <td>28.026140</td>\n",
       "      <td>-0.500428</td>\n",
       "    </tr>\n",
       "  </tbody>\n",
       "</table>\n",
       "<p>5 rows × 41 columns</p>\n",
       "</div>"
      ],
      "text/plain": [
       "         Date Fulfilment              SKU        ASIN Courier Status  Qty  \\\n",
       "0  2022-04-30   Merchant  JNE3781-KR-XXXL  B09K3WFS32        Shipped    1   \n",
       "1  2022-04-30     Amazon    JNE3371-KR-XL  B07WV4JV4D        Shipped    1   \n",
       "2  2022-04-30     Amazon  JNE3671-TU-XXXL  B098714BZP        Shipped    1   \n",
       "3  2022-04-30     Amazon  SET264-KR-NP-XL  B08YN7XDSG        Shipped    1   \n",
       "4  2022-04-30     Amazon      J0095-SET-L  B08CMHNWBN        Shipped    1   \n",
       "\n",
       "   Amount    B2B  Amount_scaled  Category_Bottom  ...  \\\n",
       "0   406.0  False      -0.884741            False  ...   \n",
       "1   329.0   True      -1.195850            False  ...   \n",
       "2   574.0  False      -0.205958            False  ...   \n",
       "3   824.0  False       0.804135            False  ...   \n",
       "4   653.0  False       0.113231            False  ...   \n",
       "\n",
       "   Status_Shipped - Delivered to Buyer  Status_Shipped - Lost in Transit  \\\n",
       "0                                 True                             False   \n",
       "1                                False                             False   \n",
       "2                                False                             False   \n",
       "3                                False                             False   \n",
       "4                                False                             False   \n",
       "\n",
       "   Status_Shipped - Out for Delivery  Status_Shipped - Picked Up  \\\n",
       "0                              False                       False   \n",
       "1                              False                       False   \n",
       "2                              False                       False   \n",
       "3                              False                       False   \n",
       "4                              False                       False   \n",
       "\n",
       "   Status_Shipped - Rejected by Buyer  Status_Shipped - Returned to Seller  \\\n",
       "0                               False                                False   \n",
       "1                               False                                False   \n",
       "2                               False                                False   \n",
       "3                               False                                False   \n",
       "4                               False                                False   \n",
       "\n",
       "   Status_Shipped - Returning to Seller  Cluster        PCA1      PCA2  \n",
       "0                                 False        2 -218.977633  1.218870  \n",
       "1                                 False        2 -295.978222 -0.494451  \n",
       "2                                 False        3  -50.975504 -0.499005  \n",
       "3                                 False        0  199.027326 -0.507543  \n",
       "4                                 False        0   28.026140 -0.500428  \n",
       "\n",
       "[5 rows x 41 columns]"
      ]
     },
     "execution_count": 2,
     "metadata": {},
     "output_type": "execute_result"
    }
   ],
   "source": [
    "df = pd.read_csv(\"Dataset_inisiasi.csv\")\n",
    "df.head()"
   ]
  },
  {
   "cell_type": "code",
   "execution_count": 3,
   "metadata": {},
   "outputs": [],
   "source": [
    "df.drop(columns=[\"Date\", \"SKU\", \"ASIN\"], inplace=True)"
   ]
  },
  {
   "cell_type": "code",
   "execution_count": 4,
   "metadata": {},
   "outputs": [],
   "source": [
    "from sklearn.preprocessing import LabelEncoder\n",
    "\n",
    "# Label Encoding untuk kolom kategorikal\n",
    "categorical_cols = [\"Fulfilment\", \"Courier Status\"]\n",
    "le = LabelEncoder()\n",
    "\n",
    "for col in categorical_cols:\n",
    "    df[col] = le.fit_transform(df[col])"
   ]
  },
  {
   "cell_type": "code",
   "execution_count": 5,
   "metadata": {},
   "outputs": [
    {
     "name": "stdout",
     "output_type": "stream",
     "text": [
      "Fulfilment                                int32\n",
      "Courier Status                            int32\n",
      "Qty                                       int64\n",
      "Amount                                  float64\n",
      "B2B                                        bool\n",
      "Amount_scaled                           float64\n",
      "Category_Bottom                            bool\n",
      "Category_Dupatta                           bool\n",
      "Category_Ethnic Dress                      bool\n",
      "Category_Saree                             bool\n",
      "Category_Set                               bool\n",
      "Category_Top                               bool\n",
      "Category_Western Dress                     bool\n",
      "Category_kurta                             bool\n",
      "Size_4XL                                   bool\n",
      "Size_5XL                                   bool\n",
      "Size_6XL                                   bool\n",
      "Size_Free                                  bool\n",
      "Size_L                                     bool\n",
      "Size_M                                     bool\n",
      "Size_S                                     bool\n",
      "Size_XL                                    bool\n",
      "Size_XS                                    bool\n",
      "Size_XXL                                   bool\n",
      "Status_Pending                             bool\n",
      "Status_Pending - Waiting for Pick Up       bool\n",
      "Status_Shipped                             bool\n",
      "Status_Shipped - Damaged                   bool\n",
      "Status_Shipped - Delivered to Buyer        bool\n",
      "Status_Shipped - Lost in Transit           bool\n",
      "Status_Shipped - Out for Delivery          bool\n",
      "Status_Shipped - Picked Up                 bool\n",
      "Status_Shipped - Rejected by Buyer         bool\n",
      "Status_Shipped - Returned to Seller        bool\n",
      "Status_Shipped - Returning to Seller       bool\n",
      "Cluster                                   int64\n",
      "PCA1                                    float64\n",
      "PCA2                                    float64\n",
      "dtype: object\n"
     ]
    }
   ],
   "source": [
    "print(df.dtypes)"
   ]
  },
  {
   "cell_type": "markdown",
   "metadata": {
    "id": "KkPem5eWL2UP"
   },
   "source": [
    "# **3. Data Splitting**"
   ]
  },
  {
   "cell_type": "markdown",
   "metadata": {
    "id": "YYj1rl_JNI9Y"
   },
   "source": [
    "Tahap Data Splitting bertujuan untuk memisahkan dataset menjadi dua bagian: data latih (training set) dan data uji (test set)."
   ]
  },
  {
   "cell_type": "code",
   "execution_count": 6,
   "metadata": {
    "id": "OubAW-7ONKVj"
   },
   "outputs": [
    {
     "name": "stdout",
     "output_type": "stream",
     "text": [
      "Ukuran X_train: (89991, 35)\n",
      "Ukuran X_test: (22498, 35)\n",
      "Ukuran y_train: (89991,)\n",
      "Ukuran y_test: (22498,)\n"
     ]
    }
   ],
   "source": [
    "X = df.drop(columns=[\"Cluster\", \"PCA1\", \"PCA2\"])\n",
    "y = df[\"Cluster\"]\n",
    "\n",
    "X_train, X_test, y_train, y_test = train_test_split(X, y, test_size=0.2, random_state=42, stratify=y)\n",
    "\n",
    "print(\"Ukuran X_train:\", X_train.shape)\n",
    "print(\"Ukuran X_test:\", X_test.shape)\n",
    "print(\"Ukuran y_train:\", y_train.shape)\n",
    "print(\"Ukuran y_test:\", y_test.shape)"
   ]
  },
  {
   "cell_type": "markdown",
   "metadata": {
    "id": "IVPbB03CMhTT"
   },
   "source": [
    "# **4. Membangun Model Klasifikasi**\n"
   ]
  },
  {
   "cell_type": "markdown",
   "metadata": {
    "id": "Ned1pL9zMmBK"
   },
   "source": [
    "## **a. Membangun Model Klasifikasi**"
   ]
  },
  {
   "cell_type": "markdown",
   "metadata": {
    "id": "WAWzPOE4Nkti"
   },
   "source": [
    "Setelah memilih algoritma klasifikasi yang sesuai, langkah selanjutnya adalah melatih model menggunakan data latih.\n",
    "\n",
    "Berikut adalah rekomendasi tahapannya.\n",
    "1. Pilih algoritma klasifikasi yang sesuai, seperti Logistic Regression, Decision Tree, Random Forest, atau K-Nearest Neighbors (KNN).\n",
    "2. Latih model menggunakan data latih."
   ]
  },
  {
   "cell_type": "code",
   "execution_count": 7,
   "metadata": {
    "id": "4JYxBe87NLDk"
   },
   "outputs": [
    {
     "name": "stdout",
     "output_type": "stream",
     "text": [
      "Model Random Forest dan SVM berhasil dilatih\n"
     ]
    }
   ],
   "source": [
    "# 1. Membangun Model Random Forest\n",
    "rf_model = RandomForestClassifier(n_estimators=100, random_state=42)\n",
    "rf_model.fit(X_train, y_train)\n",
    "\n",
    "# 2. Membangun Model SVM\n",
    "svm_model = SVC(kernel='rbf', C=1, gamma='scale', random_state=42)\n",
    "svm_model.fit(X_train, y_train)\n",
    "\n",
    "print(\"Model Random Forest dan SVM berhasil dilatih\")"
   ]
  },
  {
   "cell_type": "markdown",
   "metadata": {
    "id": "seYoHNY3XU1y"
   },
   "source": [
    "Tulis narasi atau penjelasan algoritma yang Anda gunakan.\n",
    "\n",
    "**Random Forest** adalah algoritma ensemble yang membangun banyak Decision Tree dan menggabungkan prediksinya untuk meningkatkan akurasi serta mengurangi overfitting, sehingga cocok untuk dataset dengan banyak fitur.\n",
    "\n",
    "**SVM** bekerja dengan mencari hyperplane terbaik yang memisahkan kelas dengan margin terbesar, menggunakan teknik kernel trick untuk menangani data yang tidak terpisah secara linear."
   ]
  },
  {
   "cell_type": "markdown",
   "metadata": {
    "id": "ergzChZFEL-O"
   },
   "source": [
    "## **b. Evaluasi Model Klasifikasi**"
   ]
  },
  {
   "cell_type": "markdown",
   "metadata": {
    "id": "zOm68u-7NpLT"
   },
   "source": [
    "Berikut adalah **rekomendasi** tahapannya.\n",
    "1. Lakukan prediksi menggunakan data uji.\n",
    "2. Hitung metrik evaluasi seperti Accuracy dan F1-Score (Opsional: Precision dan Recall).\n",
    "3. Buat confusion matrix untuk melihat detail prediksi benar dan salah."
   ]
  },
  {
   "cell_type": "code",
   "execution_count": 8,
   "metadata": {
    "id": "tMq4QAssNLip"
   },
   "outputs": [
    {
     "data": {
      "image/png": "[encoded data removed]",
      "text/plain": [
       "<Figure size 1200x500 with 4 Axes>"
      ]
     },
     "metadata": {},
     "output_type": "display_data"
    },
    {
     "name": "stdout",
     "output_type": "stream",
     "text": [
      "=== Classification Report Random Forest ===\n",
      "              precision    recall  f1-score   support\n",
      "\n",
      "           0       1.00      1.00      1.00      6982\n",
      "           1       1.00      1.00      1.00      2749\n",
      "           2       1.00      1.00      1.00      4878\n",
      "           3       1.00      1.00      1.00      7889\n",
      "\n",
      "    accuracy                           1.00     22498\n",
      "   macro avg       1.00      1.00      1.00     22498\n",
      "weighted avg       1.00      1.00      1.00     22498\n",
      "\n",
      "\n",
      "=== Classification Report SVM ===\n",
      "              precision    recall  f1-score   support\n",
      "\n",
      "           0       1.00      0.99      1.00      6982\n",
      "           1       0.99      1.00      1.00      2749\n",
      "           2       1.00      0.98      0.99      4878\n",
      "           3       0.98      1.00      0.99      7889\n",
      "\n",
      "    accuracy                           0.99     22498\n",
      "   macro avg       0.99      0.99      0.99     22498\n",
      "weighted avg       0.99      0.99      0.99     22498\n",
      "\n"
     ]
    }
   ],
   "source": [
    "# 1. Prediksi pada data uji\n",
    "y_pred_rf = rf_model.predict(X_test)\n",
    "y_pred_svm = svm_model.predict(X_test)\n",
    "\n",
    "# 2. Menghitung metrik evaluasi\n",
    "accuracy_rf = accuracy_score(y_test, y_pred_rf)\n",
    "f1_rf = f1_score(y_test, y_pred_rf, average='weighted')\n",
    "\n",
    "accuracy_svm = accuracy_score(y_test, y_pred_svm)\n",
    "f1_svm = f1_score(y_test, y_pred_svm, average='weighted')\n",
    "\n",
    "# 3. Menampilkan confusion matrix\n",
    "fig, axes = plt.subplots(1, 2, figsize=(12, 5))\n",
    "\n",
    "sns.heatmap(confusion_matrix(y_test, y_pred_rf), annot=True, fmt='d', cmap='Blues', ax=axes[0])\n",
    "axes[0].set_title(f'Random Forest\\nAccuracy: {accuracy_rf:.2f}, F1-Score: {f1_rf:.2f}')\n",
    "axes[0].set_xlabel('Predicted Label')\n",
    "axes[0].set_ylabel('True Label')\n",
    "\n",
    "sns.heatmap(confusion_matrix(y_test, y_pred_svm), annot=True, fmt='d', cmap='Blues', ax=axes[1])\n",
    "axes[1].set_title(f'SVM\\nAccuracy: {accuracy_svm:.2f}, F1-Score: {f1_svm:.2f}')\n",
    "axes[1].set_xlabel('Predicted Label')\n",
    "axes[1].set_ylabel('True Label')\n",
    "\n",
    "plt.show()\n",
    "\n",
    "# 4. Menampilkan laporan klasifikasi\n",
    "print(\"=== Classification Report Random Forest ===\")\n",
    "print(classification_report(y_test, y_pred_rf))\n",
    "\n",
    "print(\"\\n=== Classification Report SVM ===\")\n",
    "print(classification_report(y_test, y_pred_svm))"
   ]
  },
  {
   "cell_type": "markdown",
   "metadata": {
    "id": "H4_9OwrsXZlz"
   },
   "source": [
    "Tulis hasil evaluasi algoritma yang digunakan, jika Anda menggunakan 2 algoritma, maka bandingkan hasilnya.\n",
    "\n",
    "Berdasarkan hasil evaluasi, model **Random Forest** menunjukkan performa yang sangat baik dengan **akurasi dan F1-score sempurna (1.00) pada semua kelas**, menandakan model mampu mengklasifikasikan data dengan sangat akurat.\n",
    "\n",
    "Model **SVM** juga memiliki performa yang sangat tinggi dengan **akurasi 0.99**, tetapi terdapat sedikit perbedaan dalam recall pada beberapa kelas, khususnya kelas **2**, yang memiliki recall **0.98**. Ini menunjukkan bahwa ada beberapa sampel dari kelas ini yang salah diklasifikasikan ke kelas lain.\n",
    "\n",
    "Secara keseluruhan, kedua model menunjukkan hasil yang sangat baik, namun **Random Forest** memiliki keunggulan dalam konsistensi performa di semua kelas."
   ]
  },
  {
   "cell_type": "markdown",
   "metadata": {
    "id": "ph9yIYDXEPuB"
   },
   "source": [
    "## **c. Tuning Model Klasifikasi (Optional)**"
   ]
  },
  {
   "cell_type": "markdown",
   "metadata": {
    "id": "-Bikx3LINv5e"
   },
   "source": [
    "Gunakan GridSearchCV, RandomizedSearchCV, atau metode lainnya untuk mencari kombinasi hyperparameter terbaik"
   ]
  },
  {
   "cell_type": "code",
   "execution_count": 9,
   "metadata": {
    "id": "winbFzb8NL95"
   },
   "outputs": [],
   "source": [
    "#Type your code here"
   ]
  },
  {
   "cell_type": "markdown",
   "metadata": {
    "id": "hE7pqlEPEYzI"
   },
   "source": [
    "## **d. Evaluasi Model Klasifikasi setelah Tuning (Optional)**"
   ]
  },
  {
   "cell_type": "markdown",
   "metadata": {
    "id": "feaPESoeN0zz"
   },
   "source": [
    "Berikut adalah rekomendasi tahapannya.\n",
    "1. Gunakan model dengan hyperparameter terbaik.\n",
    "2. Hitung ulang metrik evaluasi untuk melihat apakah ada peningkatan performa."
   ]
  },
  {
   "cell_type": "code",
   "execution_count": 10,
   "metadata": {
    "id": "HTXZRvEeNMb1"
   },
   "outputs": [],
   "source": [
    "#Type your code here"
   ]
  },
  {
   "cell_type": "markdown",
   "metadata": {
    "id": "ZRsOdm4uEgAW"
   },
   "source": [
    "## **e. Analisis Hasil Evaluasi Model Klasifikasi**"
   ]
  },
  {
   "cell_type": "markdown",
   "metadata": {
    "id": "Hm3BhSi6N4_l"
   },
   "source": [
    "Berikut adalah **rekomendasi** tahapannya.\n",
    "1. Bandingkan hasil evaluasi sebelum dan setelah tuning (jika dilakukan).\n",
    "2. Identifikasi kelemahan model, seperti:\n",
    "  - Precision atau Recall rendah untuk kelas tertentu.\n",
    "  - Apakah model mengalami overfitting atau underfitting?\n",
    "3. Berikan rekomendasi tindakan lanjutan, seperti mengumpulkan data tambahan atau mencoba algoritma lain jika hasil belum memuaskan."
   ]
  },
  {
   "cell_type": "markdown",
   "metadata": {},
   "source": [
    "### **Analisis Hasil Evaluasi Model Klasifikasi**lasifikasi**  \r\n",
    "\r\n",
    "### **Identifikasi Kelemahan Model**  \r\n",
    "- **Precision dan Recall**:  \r\n",
    "  - Model **Random Forest** memiliki precision dan recall sempurna (1.00) untuk semua kelas.  \r\n",
    "  - Model **SVM** memiliki recall **0.98 pada kelas 2**, yang menunjukkan sedikit kesulitan dalam mengklasifikasikan beberapa sampel dari kelas tersebut.  \r\n",
    "\r\n",
    "- **Overfitting atau Underfitting**:  \r\n",
    "  - Tidak ada indikasi overfitting atau underfitting karena metrik evaluasi sangat tinggi di seluruh kelas.  \r\n",
    "  - Namun, hasil yang terlalu sempurna bisa mengindikasikan **potensi kebocoran informasi dalam data**.  \r\n",
    "\r\n",
    "### **Rekomendasi Tindakan Lanjutan**  \r\n",
    "- Melakukan **tuning hyperparameter** untuk memastikan model sudah optimal.  \r\n",
    "- Memeriksa kembali preprocessing data untuk **menghindari kebocoran informasi** yang bisa menyebabkan hasil terlalu tinggi.  \r\n",
    "- Mencoba algoritma lain seperti **XGBoost atau Gradient Boosting** untuk melihat apakah ada peningkatan atau perbedaan performa.  \r\n",
    "- Mengumpulkan lebih banyak data atau memperkenalkan sedikit **noise** untuk menguji ketahanan model terhadap variasi data di dunia nyata.  \r\n",
    "\r\n",
    "---\r\n",
    "\r\n",
    "Struktur ini lebih terpisah dan jelas. 🚀unia nyata."
   ]
  },
  {
   "cell_type": "code",
   "execution_count": null,
   "metadata": {},
   "outputs": [],
   "source": []
  }
 ],
 "metadata": {
  "colab": {
   "provenance": []
  },
  "kernelspec": {
   "display_name": "Python 3 (ipykernel)",
   "language": "python",
   "name": "python3"
  },
  "language_info": {
   "codemirror_mode": {
    "name": "ipython",
    "version": 3
   },
   "file_extension": ".py",
   "mimetype": "text/x-python",
   "name": "python",
   "nbconvert_exporter": "python",
   "pygments_lexer": "ipython3",
   "version": "3.11.7"
  }
 },
 "nbformat": 4,
 "nbformat_minor": 4
}
